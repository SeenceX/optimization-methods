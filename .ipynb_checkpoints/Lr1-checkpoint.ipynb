{
 "cells": [
  {
   "cell_type": "code",
   "execution_count": 1,
   "id": "196d37ff",
   "metadata": {
    "scrolled": true
   },
   "outputs": [
    {
     "ename": "NameError",
     "evalue": "name 'c1' is not defined",
     "output_type": "error",
     "traceback": [
      "\u001b[0;31m---------------------------------------------------------------------------\u001b[0m",
      "\u001b[0;31mNameError\u001b[0m                                 Traceback (most recent call last)",
      "\u001b[0;32m/var/folders/nq/8nq214j92m5891f1mync2l240000gn/T/ipykernel_59568/3296275020.py\u001b[0m in \u001b[0;36m<module>\u001b[0;34m\u001b[0m\n\u001b[0;32m----> 1\u001b[0;31m \u001b[0;32mclass\u001b[0m \u001b[0mMo\u001b[0m\u001b[0;34m:\u001b[0m\u001b[0;34m\u001b[0m\u001b[0;34m\u001b[0m\u001b[0m\n\u001b[0m\u001b[1;32m      2\u001b[0m     \u001b[0mc1\u001b[0m\u001b[0;34m,\u001b[0m \u001b[0mc2\u001b[0m\u001b[0;34m,\u001b[0m \u001b[0mc3\u001b[0m\u001b[0;34m,\u001b[0m \u001b[0mc4\u001b[0m\u001b[0;34m\u001b[0m\u001b[0;34m\u001b[0m\u001b[0m\n\u001b[1;32m      3\u001b[0m     \u001b[0;32mdef\u001b[0m \u001b[0m__init__\u001b[0m\u001b[0;34m(\u001b[0m\u001b[0mself\u001b[0m\u001b[0;34m,\u001b[0m \u001b[0mc1\u001b[0m\u001b[0;34m,\u001b[0m \u001b[0mc2\u001b[0m\u001b[0;34m,\u001b[0m \u001b[0mc3\u001b[0m\u001b[0;34m,\u001b[0m \u001b[0mc4\u001b[0m\u001b[0;34m,\u001b[0m \u001b[0me\u001b[0m\u001b[0;34m)\u001b[0m\u001b[0;34m:\u001b[0m\u001b[0;34m\u001b[0m\u001b[0;34m\u001b[0m\u001b[0m\n\u001b[1;32m      4\u001b[0m         \u001b[0mself\u001b[0m\u001b[0;34m.\u001b[0m\u001b[0mc1\u001b[0m \u001b[0;34m=\u001b[0m \u001b[0mc1\u001b[0m\u001b[0;34m\u001b[0m\u001b[0;34m\u001b[0m\u001b[0m\n\u001b[1;32m      5\u001b[0m         \u001b[0mself\u001b[0m\u001b[0;34m.\u001b[0m\u001b[0mc2\u001b[0m \u001b[0;34m=\u001b[0m \u001b[0mc2\u001b[0m\u001b[0;34m\u001b[0m\u001b[0;34m\u001b[0m\u001b[0m\n",
      "\u001b[0;32m/var/folders/nq/8nq214j92m5891f1mync2l240000gn/T/ipykernel_59568/3296275020.py\u001b[0m in \u001b[0;36mMo\u001b[0;34m()\u001b[0m\n\u001b[1;32m      1\u001b[0m \u001b[0;32mclass\u001b[0m \u001b[0mMo\u001b[0m\u001b[0;34m:\u001b[0m\u001b[0;34m\u001b[0m\u001b[0;34m\u001b[0m\u001b[0m\n\u001b[0;32m----> 2\u001b[0;31m     \u001b[0mc1\u001b[0m\u001b[0;34m,\u001b[0m \u001b[0mc2\u001b[0m\u001b[0;34m,\u001b[0m \u001b[0mc3\u001b[0m\u001b[0;34m,\u001b[0m \u001b[0mc4\u001b[0m\u001b[0;34m\u001b[0m\u001b[0;34m\u001b[0m\u001b[0m\n\u001b[0m\u001b[1;32m      3\u001b[0m     \u001b[0;32mdef\u001b[0m \u001b[0m__init__\u001b[0m\u001b[0;34m(\u001b[0m\u001b[0mself\u001b[0m\u001b[0;34m,\u001b[0m \u001b[0mc1\u001b[0m\u001b[0;34m,\u001b[0m \u001b[0mc2\u001b[0m\u001b[0;34m,\u001b[0m \u001b[0mc3\u001b[0m\u001b[0;34m,\u001b[0m \u001b[0mc4\u001b[0m\u001b[0;34m,\u001b[0m \u001b[0me\u001b[0m\u001b[0;34m)\u001b[0m\u001b[0;34m:\u001b[0m\u001b[0;34m\u001b[0m\u001b[0;34m\u001b[0m\u001b[0m\n\u001b[1;32m      4\u001b[0m         \u001b[0mself\u001b[0m\u001b[0;34m.\u001b[0m\u001b[0mc1\u001b[0m \u001b[0;34m=\u001b[0m \u001b[0mc1\u001b[0m\u001b[0;34m\u001b[0m\u001b[0;34m\u001b[0m\u001b[0m\n\u001b[1;32m      5\u001b[0m         \u001b[0mself\u001b[0m\u001b[0;34m.\u001b[0m\u001b[0mc2\u001b[0m \u001b[0;34m=\u001b[0m \u001b[0mc2\u001b[0m\u001b[0;34m\u001b[0m\u001b[0;34m\u001b[0m\u001b[0m\n",
      "\u001b[0;31mNameError\u001b[0m: name 'c1' is not defined"
     ]
    }
   ],
   "source": [
    "class Mo:\n",
    "    def __init__(self, c1, c2, c3, c4, e):\n",
    "        self.c1 = c1\n",
    "        self.c2 = c2\n",
    "        self.c3 = c3\n",
    "        self.c4 = c4\n",
    "            \n",
    "    def func(self, x):\n",
    "        return (self.c1*(x*x*x)+self.c2*(x*x)+c3*x+c4)\n",
    "            \n",
    "    def HalfDivision(self):\n",
    "        print(f\"f(x) = {c1}x^3\",end='')\n",
    "        if c2 < 0:\n",
    "            print(f\"{c2}x^2\", end='')\n",
    "        else:\n",
    "            print(f\"+{c2}x^2\", end='')\n",
    "        if c3<0:\n",
    "            print(f\"{c3}x\", end='')\n",
    "        else:\n",
    "            print(f\"+{c3}x\", end='')\n",
    "        if c4<0:\n",
    "            print(f\"{c4}\")\n",
    "        else:\n",
    "            print(f\"+{c4}\")\n",
    "            \n",
    "        print(\"Начальный интервал:\")\n",
    "        a = int(input())\n",
    "        b = int(input())\n",
    "        x = (a+b)/2\n",
    "        l = b - a\n",
    "        fx = self.func(x)\n",
    "        k = -1\n",
    "        \n",
    "        while l > e:\n",
    "            k += 1\n",
    "            y = a + (1/4)\n",
    "            z = b - (1/4)\n",
    "            fx = self.func(x)\n",
    "            fy = self.func(y)\n",
    "            fz = self.func(z)\n",
    "            print(f\"При k = {k}\")\n",
    "            print(f\"x = {x}; y = {y}; z = {z}; a = {a}; b = {b}; l = {l}\")\n",
    "            print(f\"f(x) = {fx}; f(y) = {fy}; f(z) = {fz}\")\n",
    "            if fy < fx:\n",
    "                b = x\n",
    "                x = y\n",
    "            else:\n",
    "                if fz < fx:\n",
    "                    a = x\n",
    "                    x = z\n",
    "                else:\n",
    "                    a = y\n",
    "                    b = z\n",
    "            l = abs(a-b)\n",
    "\n",
    "\n",
    "print(\"Введите коэф. уравнения:\")\n",
    "print(\"c1:\", end=\"\")\n",
    "c1 = int(input())\n",
    "print(\"c2:\", end=\"\")\n",
    "c2 = int(input())\n",
    "print(\"c3:\", end=\"\")\n",
    "c3 = int(input())\n",
    "print(\"c4:\", end=\"\")\n",
    "c4 = int(input())\n",
    "print(\"Требуемая точноесть e: \", end=\"\")\n",
    "e = float(input())\n",
    "mo = Mo(c1, c2, c3, c4, e)\n",
    "\n",
    "mo.HalfDivision()\n"
   ]
  },
  {
   "cell_type": "code",
   "execution_count": null,
   "id": "fa230460",
   "metadata": {},
   "outputs": [],
   "source": []
  },
  {
   "cell_type": "code",
   "execution_count": null,
   "id": "10d30a0b",
   "metadata": {},
   "outputs": [],
   "source": []
  }
 ],
 "metadata": {
  "kernelspec": {
   "display_name": "Python 3 (ipykernel)",
   "language": "python",
   "name": "python3"
  },
  "language_info": {
   "codemirror_mode": {
    "name": "ipython",
    "version": 3
   },
   "file_extension": ".py",
   "mimetype": "text/x-python",
   "name": "python",
   "nbconvert_exporter": "python",
   "pygments_lexer": "ipython3",
   "version": "3.9.13"
  }
 },
 "nbformat": 4,
 "nbformat_minor": 5
}
